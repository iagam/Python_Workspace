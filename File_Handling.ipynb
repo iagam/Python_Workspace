{
 "cells": [
  {
   "cell_type": "code",
   "execution_count": null,
   "metadata": {},
   "outputs": [],
   "source": [
    "# Example of exception handling\n",
    "\n",
    "a=int(input('Enter a:'))\n",
    "\n",
    "while True:\n",
    "    b=int(input('Enter b:'))\n",
    "    try:\n",
    "        x=a/b\n",
    "        break\n",
    "    except:\n",
    "        print('Division by zero is not possible, Enter b again')\n",
    "        \n",
    "print('Division is: ',x)\n",
    "print('Program over')"
   ]
  },
  {
   "cell_type": "code",
   "execution_count": null,
   "metadata": {},
   "outputs": [],
   "source": [
    "# Example to open a file and count number of lines in that file\n",
    "\n",
    "try:\n",
    "    fhand=open('myfile.txt','r')\n",
    "    print('File opened successfully ')\n",
    "except:\n",
    "    print('File cannot be opened')\n",
    "    exit()\n",
    "    \n",
    "count =0\n",
    "for line in fhand:\n",
    "    count+=1\n",
    "    print(\"Line Number \",count, \":\", line)\n",
    "\n",
    "print(\"Total lines=\",count)\n",
    "fhand.close()          #closing file once the operations are over\n"
   ]
  },
  {
   "cell_type": "code",
   "execution_count": null,
   "metadata": {},
   "outputs": [],
   "source": [
    "# Usage of read() function. This will read whole file as a single string and\n",
    "# store it into a variable of the program\n",
    "\n",
    "try:\n",
    "    fhand=open('myfile.txt')\n",
    "except:\n",
    "    print('File cannot be opened.')\n",
    "    exit()\n",
    "    \n",
    "s=fhand.read()\n",
    "print(len(s))   #counting number of characters in the file\n",
    "print('The file contents are: ',s)\n",
    "print('The first 20 characters of the file are:',s[:20])\n",
    "fhand.close()\n"
   ]
  },
  {
   "cell_type": "code",
   "execution_count": null,
   "metadata": {},
   "outputs": [],
   "source": [
    "# Example to write the data into a file\n",
    "\n",
    "fout=open('f1.txt','w')\n",
    "\n",
    "for i in range(5):\n",
    "    line=input(\"Enter a line: \")\n",
    "    fout.write(line +\"\\n\")\n",
    "\n",
    "print('File writing over!!')\n",
    "fout.close()\n"
   ]
  },
  {
   "cell_type": "code",
   "execution_count": null,
   "metadata": {},
   "outputs": [],
   "source": [
    "# Write a program to count number of words in the file\n",
    "\n",
    "try:\n",
    "    fhand=open('myfile.txt','r')\n",
    "    print('File opened successfully ')\n",
    "except:\n",
    "    print('File cannot be opened')\n",
    "    exit()\n",
    "    \n",
    "count =0\n",
    "for line in fhand:\n",
    "    count+=len(line.split())\n",
    "    print(\"Line Number \",count, \":\", line)\n",
    "\n",
    "print(\"Total words=\",count)\n",
    "fhand.close()        "
   ]
  },
  {
   "cell_type": "code",
   "execution_count": 1,
   "metadata": {},
   "outputs": [
    {
     "name": "stdout",
     "output_type": "stream",
     "text": [
      "Enter a file name:myfile.txt\n",
      "Enter a word to be searched:hello\n",
      "hello how are you?\n",
      "\n",
      "hello world\n",
      "\n"
     ]
    }
   ],
   "source": [
    "# Searching for a word and print only those lines which starts with the given word\n",
    "\n",
    "fname=input('Enter a file name:')\n",
    "word=input('Enter a word to be searched:')\n",
    "\n",
    "try:\n",
    "    fhand=open(fname, 'r')\n",
    "    for line in fhand:\n",
    "        if line.startswith(word):\n",
    "            print(line)\n",
    "            \n",
    "    fhand.close()\n",
    "except:\n",
    "    print('File cannot be opened')\n",
    "\n"
   ]
  },
  {
   "cell_type": "code",
   "execution_count": 2,
   "metadata": {},
   "outputs": [
    {
     "name": "stdout",
     "output_type": "stream",
     "text": [
      "Enter a file name:myfile.txt\n",
      "Number of lines= 7\n",
      "Number of words= 23\n",
      "Number of characters= 126\n"
     ]
    }
   ],
   "source": [
    "# Program to cound number of lines, words, characters in a file\n",
    "\n",
    "file=input(\"Enter a file name:\")\n",
    "try:\n",
    "    fhand=open(file)\n",
    "except:\n",
    "    print(\"File not found\")\n",
    "    exit(0)\n",
    "\n",
    "lineCount=0\n",
    "wordCount=0\n",
    "charCount=0\n",
    "for line in fhand:\n",
    "    lineCount+=1\n",
    "    charCount+=len(line)\n",
    "    ls=line.split()\n",
    "    wordCount+=len(ls)\n",
    "\n",
    "print('Number of lines=',lineCount)\n",
    "print('Number of words=', wordCount)\n",
    "print('Number of characters=', charCount)\n",
    "fhand.close()\n"
   ]
  },
  {
   "cell_type": "code",
   "execution_count": 8,
   "metadata": {},
   "outputs": [
    {
     "name": "stdout",
     "output_type": "stream",
     "text": [
      "File copied successfully\n"
     ]
    }
   ],
   "source": [
    "# Write a program to copy contents of one file into another\n",
    "\n",
    "#file=input(\"Enter a file name:\")\n",
    "\n",
    "try:\n",
    "    fhand1=open('D:\\Chetana_Workspace\\myfile.txt')\n",
    "except:\n",
    "    print(\"File not found\")\n",
    "    exit(0)\n",
    "\n",
    "fhand2=open('destFile.txt','w')\n",
    "for line in fhand1:\n",
    "    fhand2.write(line)\n",
    "\n",
    "print('File copied successfully')\n",
    "fhand1.close()\n",
    "fhand2.close()\n"
   ]
  },
  {
   "cell_type": "code",
   "execution_count": 6,
   "metadata": {},
   "outputs": [
    {
     "name": "stdout",
     "output_type": "stream",
     "text": [
      "\n",
      "First 10 lines are:\n",
      "hello how are you?\n",
      "I am doing fine!!\n",
      "how# about you?\n",
      "hello world How\n",
      "karnataka is a state in India\n",
      "Bangalroe is capital of Karnataka\n",
      "hello how are you?\n",
      "I am doing fine!!\n",
      "how# about you?\n",
      "hello world How\n",
      "\n",
      "Last 10 lines are:\n",
      "hello world How\n",
      "karnataka is a state in India\n",
      "Bangalroe is capital of Karnataka\n",
      "hello how are you?\n",
      "I am doing fine!!\n",
      "how# about you?\n",
      "hello world How\n",
      "karnataka is a state in India\n",
      "Bangalroe is capital of Karnataka\n",
      "\n"
     ]
    }
   ],
   "source": [
    "# Write a program to display first 10 and last 10 lines of a file\n",
    "\n",
    "#file=input(\"Enter a file name:\")\n",
    "try:\n",
    "    fhand=open('D:\\\\Chetana_Workspace\\\\myfile.txt')\n",
    "except:\n",
    "    print(\"File not found\")\n",
    "    exit(0)\n",
    "\n",
    "s=fhand.read()        #s stores whole file contents\n",
    "ls=s.split('\\n')      #split s based on new-line character\n",
    "\n",
    "print('\\nFirst 10 lines are:')\n",
    "for i in ls[:10]:\n",
    "    print(i)\n",
    "\n",
    "print('\\nLast 10 lines are:')\n",
    "for i in ls[-10:]:\n",
    "    print(i)\n",
    "\n",
    "fhand.close()\n"
   ]
  },
  {
   "cell_type": "code",
   "execution_count": null,
   "metadata": {},
   "outputs": [],
   "source": []
  }
 ],
 "metadata": {
  "kernelspec": {
   "display_name": "Python 3",
   "language": "python",
   "name": "python3"
  },
  "language_info": {
   "codemirror_mode": {
    "name": "ipython",
    "version": 3
   },
   "file_extension": ".py",
   "mimetype": "text/x-python",
   "name": "python",
   "nbconvert_exporter": "python",
   "pygments_lexer": "ipython3",
   "version": "3.7.1"
  }
 },
 "nbformat": 4,
 "nbformat_minor": 2
}
